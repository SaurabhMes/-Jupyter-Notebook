{
  "cells": [
    {
      "cell_type": "markdown",
      "id": "e1db0463-80bf-4097-95ba-d636ce571445",
      "metadata": {},
      "source": [
        "# Data Science Tools and Ecosystem"
      ]
    },
    {
      "cell_type": "markdown",
      "id": "4d722c48-78c9-4a1c-ac14-a8c7de34b450",
      "metadata": {},
      "source": [
        "In this notebook, Data Science Tools and Ecosystem are summarized."
      ]
    },
    {
      "cell_type": "markdown",
      "id": "6b4bdc84-675e-4a7c-b979-c3c371416859",
      "metadata": {},
      "source": [
        "**Objectives:**\n",
        "* List popular languages for Data Science\n",
        "* List libraries for Data Science\n",
        "* Data Science tools\n",
        "* Arithmetic expression examples\n",
        "\n"
      ]
    },
    {
      "cell_type": "markdown",
      "id": "bb9c85aa-f5e7-416f-9f17-530ab9b0658f",
      "metadata": {},
      "source": [
        "Some of the popular languages that Data Scientists use are:\n",
        "1. python\n",
        "2. R\n",
        "3. Scala"
      ]
    },
    {
      "cell_type": "markdown",
      "id": "32c3579c-fe61-4513-9f47-f5dd44a807cb",
      "metadata": {},
      "source": [
        "Some of the commonly used libraries used by Data Scientists include:\n",
        "1. Pandas\n",
        "2. Numpy\n",
        "3. Matplotlib"
      ]
    },
    {
      "cell_type": "markdown",
      "id": "63c2b658-76b2-4608-9796-2f42ad484657",
      "metadata": {},
      "source": [
        "|Data Science Tools |\n",
        "|------------------ |\n",
        "| Jupyter Notebook|\n",
        "|Visual Studio |\n",
        "|RStudio|\n",
        "\n",
        "\n"
      ]
    },
    {
      "cell_type": "markdown",
      "id": "21936613-987a-4cd9-b544-5d1f4430b55c",
      "metadata": {},
      "source": [
        "### Below are a few examples of evaluating arithmetic expressions in Python.\n",
        "\n"
      ]
    },
    {
      "cell_type": "code",
      "execution_count": null,
      "id": "04240208-ef7a-475d-a10c-79be01b7ce67",
      "metadata": {
        "trusted": true
      },
      "outputs": [
        {
          "data": {
            "text/plain": [
              "17"
            ]
          },
          "execution_count": 3,
          "metadata": {},
          "output_type": "execute_result"
        }
      ],
      "source": [
        "#This a simple arithmetic expression to mutiply then add integers\n",
        "(3*4)+5"
      ]
    },
    {
      "cell_type": "code",
      "execution_count": null,
      "id": "e2402781-c5e1-4f05-879d-9c5917f0e715",
      "metadata": {
        "trusted": true
      },
      "outputs": [
        {
          "data": {
            "text/plain": [
              "3.3333333333333335"
            ]
          },
          "execution_count": 12,
          "metadata": {},
          "output_type": "execute_result"
        }
      ],
      "source": [
        "#This will convert 200 minutes to hours by diving by 60\n",
        "200/60 "
      ]
    },
    {
      "cell_type": "code",
      "execution_count": null,
      "id": "d9cbf9d5-c35d-4355-a8f5-d3656e2cdc75",
      "metadata": {
        "trusted": true
      },
      "outputs": [],
      "source": []
    }
  ],
  "metadata": {
    "kernelspec": {
      "display_name": "Python (Pyodide)",
      "language": "python",
      "name": "python"
    },
    "language_info": {
      "codemirror_mode": {
        "name": "python",
        "version": 3
      },
      "file_extension": ".py",
      "mimetype": "text/x-python",
      "name": "python",
      "nbconvert_exporter": "python",
      "pygments_lexer": "ipython3",
      "version": "3.8"
    }
  },
  "nbformat": 4,
  "nbformat_minor": 5
}
